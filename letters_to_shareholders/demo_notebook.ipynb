{
 "cells": [
  {
   "cell_type": "markdown",
   "id": "cb03303f",
   "metadata": {},
   "source": [
    "## Using ChatGPT to interact with Warren Buffett's letters to shareholders\n",
    "\n"
   ]
  },
  {
   "cell_type": "markdown",
   "id": "a46e23a5",
   "metadata": {},
   "source": [
    " "
   ]
  },
  {
   "cell_type": "markdown",
   "id": "9953326c",
   "metadata": {},
   "source": [
    "![Warren Buffet](data/buffett_smaller.png) "
   ]
  },
  {
   "cell_type": "code",
   "execution_count": 1,
   "id": "a8405bcc",
   "metadata": {},
   "outputs": [],
   "source": [
    "import os\n",
    "import ast\n",
    "from langchain.embeddings.openai import OpenAIEmbeddings\n",
    "from langchain.vectorstores import Chroma\n",
    "from langchain.document_loaders import DirectoryLoader\n",
    "from langchain.text_splitter import RecursiveCharacterTextSplitter\n",
    "from langchain.llms import OpenAI\n",
    "from langchain.chains.qa_with_sources import load_qa_with_sources_chain\n",
    "from config import *\n",
    "\n",
    "os.environ[\"OPENAI_API_KEY\"] = OPENAI_API_KEY"
   ]
  },
  {
   "cell_type": "code",
   "execution_count": 2,
   "id": "2b7319d3",
   "metadata": {},
   "outputs": [],
   "source": [
    "# Let's load the letters to shareholders\n",
    "\n",
    "loader = DirectoryLoader('data/')\n",
    "docs = loader.load()"
   ]
  },
  {
   "cell_type": "code",
   "execution_count": 3,
   "id": "5533f94e",
   "metadata": {},
   "outputs": [],
   "source": [
    "# Setting the embeddings model\n",
    "\n",
    "embeddings = OpenAIEmbeddings(model=EMBEDDINGS_MODEL)"
   ]
  },
  {
   "cell_type": "code",
   "execution_count": 4,
   "id": "572db885",
   "metadata": {},
   "outputs": [],
   "source": [
    "# Let's split all the letters to shareholders into separate files using the simple RecursiveCharacterTextSplitter\n",
    "\n",
    "text_splitter = RecursiveCharacterTextSplitter(\n",
    "    chunk_size = 200,\n",
    "    chunk_overlap  = 20,\n",
    "    length_function = len,\n",
    ")\n",
    "\n",
    "texts = []\n",
    "metadatas = []\n",
    "for single_doc in docs:\n",
    "    for single_part in text_splitter.split_text(single_doc.page_content):\n",
    "        # Storing all split docs in single variable\n",
    "        texts += [single_part]\n",
    "        # Metadata is saved in order to understand which letters the answer was synthesized from\n",
    "        metadatas += [ast.literal_eval(single_doc.json())['metadata']]\n"
   ]
  },
  {
   "cell_type": "code",
   "execution_count": 5,
   "id": "087568f2",
   "metadata": {},
   "outputs": [
    {
     "name": "stderr",
     "output_type": "stream",
     "text": [
      "Using embedded DuckDB without persistence: data will be transient\n"
     ]
    }
   ],
   "source": [
    "# Let's generate embeddings and store them in the chromadb\n",
    "docsearch = Chroma.from_texts(texts, embeddings, metadatas=metadatas)"
   ]
  },
  {
   "cell_type": "code",
   "execution_count": null,
   "id": "d42bd5e6",
   "metadata": {},
   "outputs": [],
   "source": [
    "# Let's use the basic load_qa_with_sources_chain chain\n",
    "\n",
    "def answer_question_from_letters(query, k_docs_to_generate_answer_from = K_DOCS_TO_GENERATE_ANSWER_FROM):\n",
    "    docs = docsearch.similarity_search(query, k = k_docs_to_generate_answer_from)\n",
    "    chain = load_qa_with_sources_chain(OpenAI(temperature=0), chain_type=\"refine\")\n",
    "    \n",
    "    return chain({\"input_documents\": docs, \"question\": query}, return_only_outputs=True)"
   ]
  },
  {
   "cell_type": "code",
   "execution_count": 7,
   "id": "dfd8490c",
   "metadata": {},
   "outputs": [],
   "source": [
    "query = \"What does Warren Buffett think about risks?\""
   ]
  },
  {
   "cell_type": "code",
   "execution_count": 8,
   "id": "95ba1d48",
   "metadata": {},
   "outputs": [],
   "source": [
    "result = answer_question_from_letters(query)"
   ]
  },
  {
   "cell_type": "code",
   "execution_count": 9,
   "id": "428c0d81",
   "metadata": {},
   "outputs": [
    {
     "name": "stdout",
     "output_type": "stream",
     "text": [
      "{'output_text': '\\n\\nWarren Buffet is known for his conservative approach to investing and his aversion to taking risks. He has famously said, \"Risk comes from not knowing what you\\'re doing,\" and he has been quoted as saying, \"I never attempt to make money on the stock market. I buy on the assumption that they could close the market the next day and not reopen it for five years.\" He also applies this same conservative approach to the insurance business, avoiding risks that are inappropriate in relation to the resources of Berkshire. In a speech given on March 26, 1979, he stated, \"We will reject interesting opportunities rather than over-stretch ourselves. We will attempt to be alert to possibilities of attractive risk/reward ratios, but we will not bend our general rules in an effort to make an extra point or two.\" On February 28, 1989, he further emphasized the importance of being aware of the risks associated with any investment, noting in a statement to the board of directors on March 1, 1993, \"We have the opportunity to assume risk on a scale that interests virtually no other company, and as our net worth and earnings grow, our willingness to write business increases. Charlie Munger, my partner in managing Berkshire, and I are reasonably optimistic about Berkshires'}\n"
     ]
    }
   ],
   "source": [
    "print(result)"
   ]
  },
  {
   "cell_type": "code",
   "execution_count": 10,
   "id": "430566dc",
   "metadata": {},
   "outputs": [],
   "source": [
    "query = \"How does Warren Buffett handle CEOs of the companies he acquires?\"\n"
   ]
  },
  {
   "cell_type": "code",
   "execution_count": 11,
   "id": "ab143bb7",
   "metadata": {},
   "outputs": [],
   "source": [
    "result = answer_question_from_letters(query)"
   ]
  },
  {
   "cell_type": "code",
   "execution_count": 12,
   "id": "d6254c09",
   "metadata": {},
   "outputs": [
    {
     "name": "stdout",
     "output_type": "stream",
     "text": [
      "{'output_text': \"\\n\\nWarren Buffett is known for taking a hands-off approach when it comes to the CEOs of the companies he acquires. In 1979, Buffett Partnership, Ltd. acquired control of the company, and since then, Buffett has typically allowed the existing management team to remain in place and continue running the business as they have been, even if the CEO of the acquirer is replaced. He will provide guidance and advice when needed, drawing on his decades of experience as Chairman of the Board since February 28, 1989 and his control of Berkshire since 2006, and will evaluate the CEO to ensure they are the right fit for the company. He will look for business savvy, a competence that is far from commonplace, and will assess the CEO's compensation to ensure it is appropriate and reasonable. Additionally, he will evaluate proposed acquisitions to determine if they are likely to create or destroy per-share value, and will help the CEO in evaluating acquisitions. Of all their activities at Berkshire, Buffett and his partner Charlie Munger find the acquisition of a business with excellent economic characteristics and a management they like, trust and admire the most exhilarating. By concentrating so much power and authority in the often-long-serving CEOs of important subsidiaries, Buffett is able to ensure that the company is run in a\"}\n"
     ]
    }
   ],
   "source": [
    "print(result)"
   ]
  },
  {
   "cell_type": "code",
   "execution_count": null,
   "id": "5729be7c",
   "metadata": {},
   "outputs": [],
   "source": []
  },
  {
   "cell_type": "code",
   "execution_count": null,
   "id": "3079be48",
   "metadata": {},
   "outputs": [],
   "source": []
  }
 ],
 "metadata": {
  "kernelspec": {
   "display_name": "Python 3 (ipykernel)",
   "language": "python",
   "name": "python3"
  },
  "language_info": {
   "codemirror_mode": {
    "name": "ipython",
    "version": 3
   },
   "file_extension": ".py",
   "mimetype": "text/x-python",
   "name": "python",
   "nbconvert_exporter": "python",
   "pygments_lexer": "ipython3",
   "version": "3.11.3"
  }
 },
 "nbformat": 4,
 "nbformat_minor": 5
}
