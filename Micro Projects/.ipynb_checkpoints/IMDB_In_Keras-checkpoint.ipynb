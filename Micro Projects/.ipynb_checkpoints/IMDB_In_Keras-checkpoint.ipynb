{
 "cells": [
  {
   "cell_type": "markdown",
   "metadata": {},
   "source": [
    "# Analyzing IMDB Data in Keras"
   ]
  },
  {
   "cell_type": "code",
   "execution_count": 1,
   "metadata": {},
   "outputs": [
    {
     "name": "stderr",
     "output_type": "stream",
     "text": [
      "Using TensorFlow backend.\n"
     ]
    }
   ],
   "source": [
    "# Imports\n",
    "import numpy as np\n",
    "import keras\n",
    "from keras.datasets import imdb\n",
    "from keras.models import Sequential\n",
    "from keras.layers import Dense, Dropout, Activation\n",
    "from keras.preprocessing.text import Tokenizer\n",
    "import matplotlib.pyplot as plt\n",
    "%matplotlib inline\n",
    "\n",
    "np.random.seed(42)"
   ]
  },
  {
   "cell_type": "markdown",
   "metadata": {},
   "source": [
    "## 1. Loading the data\n",
    "This dataset comes preloaded with Keras, so one simple command will get us training and testing data. There is a parameter for how many words we want to look at. We've set it at 1000, but feel free to experiment."
   ]
  },
  {
   "cell_type": "code",
   "execution_count": 2,
   "metadata": {},
   "outputs": [
    {
     "name": "stdout",
     "output_type": "stream",
     "text": [
      "Downloading data from https://s3.amazonaws.com/text-datasets/imdb.npz\n",
      "17465344/17464789 [==============================] - 2s 0us/step\n",
      "(25000,)\n",
      "(25000,)\n"
     ]
    }
   ],
   "source": [
    "# Loading the data (it's preloaded in Keras)\n",
    "(x_train, y_train), (x_test, y_test) = imdb.load_data(num_words=1000)\n",
    "\n",
    "print(x_train.shape)\n",
    "print(x_test.shape)"
   ]
  },
  {
   "cell_type": "markdown",
   "metadata": {},
   "source": [
    "## 2. Examining the data\n",
    "Notice that the data has been already pre-processed, where all the words have numbers, and the reviews come in as a vector with the words that the review contains. For example, if the word 'the' is the first one in our dictionary, and a review contains the word 'the', then there is a 1 in the corresponding vector.\n",
    "\n",
    "The output comes as a vector of 1's and 0's, where 1 is a positive sentiment for the review, and 0 is negative."
   ]
  },
  {
   "cell_type": "code",
   "execution_count": 3,
   "metadata": {},
   "outputs": [
    {
     "name": "stdout",
     "output_type": "stream",
     "text": [
      "[1, 11, 2, 11, 4, 2, 745, 2, 299, 2, 590, 2, 2, 37, 47, 27, 2, 2, 2, 19, 6, 2, 15, 2, 2, 17, 2, 723, 2, 2, 757, 46, 4, 232, 2, 39, 107, 2, 11, 4, 2, 198, 24, 4, 2, 133, 4, 107, 7, 98, 413, 2, 2, 11, 35, 781, 8, 169, 4, 2, 5, 259, 334, 2, 8, 4, 2, 10, 10, 17, 16, 2, 46, 34, 101, 612, 7, 84, 18, 49, 282, 167, 2, 2, 122, 24, 2, 8, 177, 4, 392, 531, 19, 259, 15, 934, 40, 507, 39, 2, 260, 77, 8, 162, 2, 121, 4, 65, 304, 273, 13, 70, 2, 2, 8, 15, 745, 2, 5, 27, 322, 2, 2, 2, 70, 30, 2, 88, 17, 6, 2, 2, 29, 100, 30, 2, 50, 21, 18, 148, 15, 26, 2, 12, 152, 157, 10, 10, 21, 19, 2, 46, 50, 5, 4, 2, 112, 828, 6, 2, 4, 162, 2, 2, 517, 6, 2, 7, 4, 2, 2, 4, 351, 232, 385, 125, 6, 2, 39, 2, 5, 29, 69, 2, 2, 6, 162, 2, 2, 232, 256, 34, 718, 2, 2, 8, 6, 226, 762, 7, 2, 2, 5, 517, 2, 6, 2, 7, 4, 351, 232, 37, 9, 2, 8, 123, 2, 2, 2, 188, 2, 857, 11, 4, 86, 22, 121, 29, 2, 2, 10, 10, 2, 61, 514, 11, 14, 22, 9, 2, 2, 14, 575, 208, 159, 2, 16, 2, 5, 187, 15, 58, 29, 93, 6, 2, 7, 395, 62, 30, 2, 493, 37, 26, 66, 2, 29, 299, 4, 172, 243, 7, 217, 11, 4, 2, 2, 22, 4, 2, 2, 13, 70, 243, 7, 2, 19, 2, 11, 15, 236, 2, 136, 121, 29, 5, 2, 26, 112, 2, 180, 34, 2, 2, 5, 320, 4, 162, 2, 568, 319, 4, 2, 2, 2, 269, 8, 401, 56, 19, 2, 16, 142, 334, 88, 146, 243, 7, 11, 2, 2, 150, 11, 4, 2, 2, 10, 10, 2, 828, 4, 206, 170, 33, 6, 52, 2, 225, 55, 117, 180, 58, 11, 14, 22, 48, 50, 16, 101, 329, 12, 62, 30, 35, 2, 2, 22, 2, 11, 4, 2, 2, 35, 735, 18, 118, 204, 881, 15, 291, 10, 10, 2, 82, 93, 52, 361, 7, 4, 162, 2, 2, 5, 4, 785, 2, 49, 7, 4, 172, 2, 7, 665, 26, 303, 343, 11, 23, 4, 2, 11, 192, 2, 11, 4, 2, 9, 44, 84, 24, 2, 54, 36, 66, 144, 11, 68, 205, 118, 602, 55, 729, 174, 8, 23, 4, 2, 10, 10, 2, 11, 4, 2, 127, 316, 2, 37, 16, 2, 19, 12, 150, 138, 426, 2, 2, 79, 49, 542, 162, 2, 2, 84, 11, 4, 392, 555]\n",
      "1\n"
     ]
    }
   ],
   "source": [
    "print(x_train[0])\n",
    "print(y_train[0])"
   ]
  },
  {
   "cell_type": "markdown",
   "metadata": {},
   "source": [
    "## 3. One-hot encoding the output\n",
    "Here, we'll turn the input vectors into (0,1)-vectors. For example, if the pre-processed vector contains the number 14, then in the processed vector, the 14th entry will be 1."
   ]
  },
  {
   "cell_type": "code",
   "execution_count": 4,
   "metadata": {},
   "outputs": [
    {
     "name": "stdout",
     "output_type": "stream",
     "text": [
      "[ 0.  1.  1.  0.  1.  1.  1.  1.  1.  1.  1.  1.  1.  1.  1.  1.  1.  1.\n",
      "  1.  1.  0.  1.  1.  1.  1.  0.  1.  1.  0.  1.  1.  0.  0.  1.  1.  1.\n",
      "  1.  1.  0.  1.  1.  0.  0.  0.  1.  0.  1.  1.  1.  1.  1.  0.  1.  0.\n",
      "  1.  1.  1.  0.  1.  0.  0.  1.  1.  0.  0.  1.  1.  0.  1.  1.  1.  0.\n",
      "  0.  0.  0.  0.  0.  1.  0.  1.  0.  0.  1.  0.  1.  0.  1.  0.  1.  0.\n",
      "  0.  0.  0.  1.  0.  0.  0.  0.  1.  0.  1.  1.  0.  0.  0.  0.  0.  1.\n",
      "  0.  0.  0.  0.  1.  0.  0.  0.  0.  1.  1.  0.  0.  1.  1.  1.  0.  1.\n",
      "  0.  1.  0.  0.  0.  0.  0.  1.  0.  0.  1.  0.  1.  0.  0.  0.  1.  0.\n",
      "  1.  0.  1.  0.  1.  0.  1.  0.  1.  0.  0.  0.  0.  1.  0.  1.  0.  0.\n",
      "  1.  0.  0.  0.  0.  1.  0.  1.  1.  0.  1.  0.  1.  0.  0.  1.  0.  0.\n",
      "  1.  0.  0.  0.  0.  0.  0.  1.  1.  0.  0.  0.  1.  0.  0.  0.  0.  0.\n",
      "  1.  0.  0.  0.  0.  0.  1.  1.  1.  0.  1.  0.  0.  0.  0.  0.  0.  0.\n",
      "  0.  1.  0.  0.  0.  0.  0.  0.  0.  1.  1.  0.  0.  0.  0.  0.  1.  0.\n",
      "  0.  0.  1.  0.  0.  0.  0.  0.  0.  1.  0.  0.  0.  0.  0.  0.  0.  0.\n",
      "  0.  0.  0.  0.  1.  0.  0.  1.  1.  0.  0.  0.  0.  0.  0.  0.  0.  1.\n",
      "  0.  0.  0.  1.  0.  0.  0.  0.  0.  0.  0.  0.  1.  0.  0.  0.  0.  0.\n",
      "  0.  0.  0.  1.  0.  0.  0.  0.  0.  0.  0.  1.  0.  0.  0.  1.  1.  0.\n",
      "  0.  0.  0.  0.  0.  0.  0.  0.  0.  0.  1.  0.  0.  1.  1.  0.  1.  0.\n",
      "  0.  0.  0.  0.  0.  1.  0.  0.  0.  0.  1.  0.  0.  0.  0.  0.  0.  0.\n",
      "  0.  1.  0.  0.  0.  0.  0.  0.  0.  1.  0.  0.  0.  0.  0.  0.  0.  0.\n",
      "  0.  1.  0.  0.  0.  0.  0.  0.  0.  0.  0.  0.  0.  0.  0.  0.  0.  0.\n",
      "  0.  0.  0.  0.  0.  0.  0.  1.  0.  0.  0.  0.  0.  0.  1.  0.  0.  1.\n",
      "  0.  0.  0.  0.  0.  1.  0.  0.  0.  0.  0.  0.  0.  0.  0.  0.  0.  1.\n",
      "  0.  0.  0.  0.  0.  0.  0.  0.  0.  0.  0.  0.  1.  0.  0.  0.  0.  0.\n",
      "  0.  0.  0.  0.  0.  0.  0.  0.  0.  0.  0.  0.  0.  0.  0.  0.  0.  0.\n",
      "  0.  0.  0.  0.  0.  0.  0.  0.  0.  0.  0.  0.  0.  0.  0.  0.  0.  0.\n",
      "  0.  0.  0.  0.  0.  0.  0.  0.  0.  0.  0.  0.  0.  0.  0.  0.  0.  0.\n",
      "  0.  0.  0.  0.  0.  0.  0.  1.  0.  0.  0.  0.  0.  0.  0.  0.  0.  0.\n",
      "  0.  0.  0.  1.  0.  0.  0.  0.  0.  0.  1.  0.  0.  1.  0.  0.  0.  0.\n",
      "  0.  0.  0.  0.  0.  0.  0.  0.  0.  1.  0.  0.  0.  0.  0.  0.  0.  0.\n",
      "  0.  0.  1.  0.  0.  0.  0.  0.  0.  0.  0.  0.  0.  0.  0.  1.  0.  0.\n",
      "  0.  0.  0.  0.  0.  0.  0.  0.  0.  0.  1.  0.  0.  0.  0.  0.  0.  1.\n",
      "  0.  0.  0.  0.  0.  0.  0.  0.  0.  0.  0.  0.  0.  0.  1.  0.  0.  0.\n",
      "  0.  0.  0.  0.  0.  0.  0.  0.  1.  0.  0.  0.  0.  0.  0.  0.  0.  0.\n",
      "  1.  0.  0.  0.  0.  0.  0.  0.  0.  0.  0.  0.  0.  0.  0.  0.  0.  0.\n",
      "  0.  0.  0.  0.  0.  0.  0.  0.  0.  0.  0.  0.  0.  0.  0.  0.  0.  0.\n",
      "  0.  0.  0.  0.  0.  0.  0.  0.  0.  0.  0.  0.  0.  0.  0.  0.  0.  1.\n",
      "  0.  0.  0.  0.  0.  0.  0.  0.  0.  0.  0.  0.  0.  0.  0.  0.  0.  0.\n",
      "  0.  0.  0.  0.  0.  0.  0.  0.  0.  0.  0.  0.  0.  0.  0.  0.  0.  0.\n",
      "  0.  0.  0.  0.  0.  0.  0.  0.  0.  0.  0.  0.  0.  0.  0.  0.  1.  0.\n",
      "  0.  0.  0.  1.  0.  0.  0.  0.  0.  1.  0.  0.  0.  0.  0.  1.  0.  0.\n",
      "  0.  0.  0.  0.  0.  0.  0.  1.  0.  0.  0.  0.  0.  0.  0.  0.  0.  0.\n",
      "  0.  1.  0.  0.  0.  0.  1.  0.  0.  0.  0.  0.  0.  0.  0.  0.  0.  0.\n",
      "  0.  0.  0.  0.  0.  0.  0.  1.  0.  0.  0.  1.  0.  0.  0.  0.  0.  0.\n",
      "  0.  0.  0.  0.  0.  0.  0.  0.  0.  0.  0.  0.  0.  0.  0.  0.  0.  0.\n",
      "  0.  0.  0.  0.  0.  0.  0.  0.  0.  0.  0.  0.  0.  0.  0.  0.  0.  0.\n",
      "  1.  0.  0.  0.  0.  0.  0.  0.  0.  0.  0.  0.  0.  0.  0.  0.  0.  0.\n",
      "  0.  0.  0.  0.  0.  0.  0.  0.  0.  0.  0.  1.  0.  0.  0.  0.  0.  0.\n",
      "  0.  0.  0.  0.  0.  0.  0.  0.  0.  0.  0.  0.  0.  0.  0.  0.  0.  1.\n",
      "  0.  0.  0.  0.  0.  0.  0.  0.  0.  0.  0.  0.  0.  0.  0.  0.  0.  0.\n",
      "  0.  0.  0.  0.  0.  0.  0.  0.  0.  0.  0.  0.  0.  0.  0.  0.  0.  0.\n",
      "  0.  0.  0.  0.  0.  0.  0.  0.  0.  0.  0.  0.  0.  0.  0.  0.  1.  0.\n",
      "  0.  0.  0.  0.  0.  0.  0.  0.  0.  0.  0.  0.  0.  0.  0.  0.  0.  0.\n",
      "  0.  0.  0.  0.  0.  0.  0.  0.  0.  0.  0.  0.  0.  0.  0.  0.  0.  0.\n",
      "  0.  0.  0.  0.  0.  0.  0.  0.  0.  0.  0.  0.  0.  0.  0.  0.  0.  0.\n",
      "  0.  0.  0.  0.  0.  0.  0.  0.  0.  0.]\n"
     ]
    }
   ],
   "source": [
    "# One-hot encoding the output into vector mode, each of length 1000\n",
    "tokenizer = Tokenizer(num_words=1000)\n",
    "x_train = tokenizer.sequences_to_matrix(x_train, mode='binary')\n",
    "x_test = tokenizer.sequences_to_matrix(x_test, mode='binary')\n",
    "print(x_train[0])"
   ]
  },
  {
   "cell_type": "markdown",
   "metadata": {},
   "source": [
    "And we'll also one-hot encode the output."
   ]
  },
  {
   "cell_type": "code",
   "execution_count": 5,
   "metadata": {},
   "outputs": [
    {
     "name": "stdout",
     "output_type": "stream",
     "text": [
      "(25000, 2)\n",
      "(25000, 2)\n"
     ]
    }
   ],
   "source": [
    "# One-hot encoding the output\n",
    "num_classes = 2\n",
    "y_train = keras.utils.to_categorical(y_train, num_classes)\n",
    "y_test = keras.utils.to_categorical(y_test, num_classes)\n",
    "print(y_train.shape)\n",
    "print(y_test.shape)"
   ]
  },
  {
   "cell_type": "markdown",
   "metadata": {},
   "source": [
    "## 4. Building the  model architecture\n",
    "Build a model here using sequential. Feel free to experiment with different layers and sizes! Also, experiment adding dropout to reduce overfitting."
   ]
  },
  {
   "cell_type": "code",
   "execution_count": 6,
   "metadata": {},
   "outputs": [
    {
     "name": "stdout",
     "output_type": "stream",
     "text": [
      "_________________________________________________________________\n",
      "Layer (type)                 Output Shape              Param #   \n",
      "=================================================================\n",
      "dense_1 (Dense)              (None, 512)               512512    \n",
      "_________________________________________________________________\n",
      "dropout_1 (Dropout)          (None, 512)               0         \n",
      "_________________________________________________________________\n",
      "dense_2 (Dense)              (None, 2)                 1026      \n",
      "=================================================================\n",
      "Total params: 513,538\n",
      "Trainable params: 513,538\n",
      "Non-trainable params: 0\n",
      "_________________________________________________________________\n"
     ]
    }
   ],
   "source": [
    "# Build the model architecture\n",
    "model = Sequential()\n",
    "\n",
    "model.add(Dense(512, activation=\"relu\", input_dim=1000))\n",
    "model.add(Dropout(0.5))\n",
    "model.add(Dense(num_classes,activation='softmax'))\n",
    "model.summary()\n",
    "# Compile the model using a loss function and an optimizer.\n",
    "model.compile(loss=\"categorical_crossentropy\", optimizer=\"adam\", metrics=[\"accuracy\"])"
   ]
  },
  {
   "cell_type": "markdown",
   "metadata": {},
   "source": [
    "## 5. Training the model\n",
    "Run the model here. Experiment with different batch_size, and number of epochs!"
   ]
  },
  {
   "cell_type": "code",
   "execution_count": 7,
   "metadata": {},
   "outputs": [
    {
     "name": "stdout",
     "output_type": "stream",
     "text": [
      "Train on 25000 samples, validate on 25000 samples\n",
      "Epoch 1/50\n",
      " - 15s - loss: 0.3882 - acc: 0.8269 - val_loss: 0.3253 - val_acc: 0.8592\n",
      "Epoch 2/50\n",
      " - 15s - loss: 0.3096 - acc: 0.8665 - val_loss: 0.3257 - val_acc: 0.8560\n",
      "Epoch 3/50\n",
      " - 15s - loss: 0.2715 - acc: 0.8876 - val_loss: 0.3199 - val_acc: 0.8604\n",
      "Epoch 4/50\n",
      " - 15s - loss: 0.2180 - acc: 0.9126 - val_loss: 0.3323 - val_acc: 0.8575\n",
      "Epoch 5/50\n",
      " - 15s - loss: 0.1605 - acc: 0.9412 - val_loss: 0.3681 - val_acc: 0.8523\n",
      "Epoch 6/50\n",
      " - 14s - loss: 0.1086 - acc: 0.9626 - val_loss: 0.3836 - val_acc: 0.8552\n",
      "Epoch 7/50\n",
      " - 14s - loss: 0.0749 - acc: 0.9745 - val_loss: 0.4343 - val_acc: 0.8498\n",
      "Epoch 8/50\n",
      " - 14s - loss: 0.0536 - acc: 0.9832 - val_loss: 0.4543 - val_acc: 0.8537\n",
      "Epoch 9/50\n",
      " - 15s - loss: 0.0444 - acc: 0.9852 - val_loss: 0.5065 - val_acc: 0.8514\n",
      "Epoch 10/50\n",
      " - 14s - loss: 0.0407 - acc: 0.9866 - val_loss: 0.5186 - val_acc: 0.8541\n",
      "Epoch 11/50\n",
      " - 14s - loss: 0.0378 - acc: 0.9868 - val_loss: 0.5851 - val_acc: 0.8504\n",
      "Epoch 12/50\n",
      " - 15s - loss: 0.0329 - acc: 0.9887 - val_loss: 0.5413 - val_acc: 0.8548\n",
      "Epoch 13/50\n",
      " - 14s - loss: 0.0308 - acc: 0.9893 - val_loss: 0.5781 - val_acc: 0.8536\n",
      "Epoch 14/50\n",
      " - 14s - loss: 0.0279 - acc: 0.9903 - val_loss: 0.6049 - val_acc: 0.8496\n",
      "Epoch 15/50\n",
      " - 15s - loss: 0.0287 - acc: 0.9903 - val_loss: 0.6164 - val_acc: 0.8555\n",
      "Epoch 16/50\n",
      " - 15s - loss: 0.0262 - acc: 0.9909 - val_loss: 0.6537 - val_acc: 0.8554\n",
      "Epoch 17/50\n",
      " - 15s - loss: 0.0284 - acc: 0.9904 - val_loss: 0.6684 - val_acc: 0.8542\n",
      "Epoch 18/50\n",
      " - 14s - loss: 0.0256 - acc: 0.9909 - val_loss: 0.6854 - val_acc: 0.8551\n",
      "Epoch 19/50\n",
      " - 15s - loss: 0.0224 - acc: 0.9926 - val_loss: 0.6820 - val_acc: 0.8509\n",
      "Epoch 20/50\n",
      " - 15s - loss: 0.0189 - acc: 0.9940 - val_loss: 0.6824 - val_acc: 0.8546\n",
      "Epoch 21/50\n",
      " - 15s - loss: 0.0208 - acc: 0.9925 - val_loss: 0.7098 - val_acc: 0.8532\n",
      "Epoch 22/50\n",
      " - 15s - loss: 0.0234 - acc: 0.9922 - val_loss: 0.7437 - val_acc: 0.8528\n",
      "Epoch 23/50\n",
      " - 15s - loss: 0.0227 - acc: 0.9920 - val_loss: 0.7122 - val_acc: 0.8522\n",
      "Epoch 24/50\n",
      " - 15s - loss: 0.0218 - acc: 0.9925 - val_loss: 0.7624 - val_acc: 0.8522\n",
      "Epoch 25/50\n",
      " - 15s - loss: 0.0189 - acc: 0.9936 - val_loss: 0.7416 - val_acc: 0.8518\n",
      "Epoch 26/50\n",
      " - 15s - loss: 0.0147 - acc: 0.9948 - val_loss: 0.8139 - val_acc: 0.8533\n",
      "Epoch 27/50\n",
      " - 15s - loss: 0.0230 - acc: 0.9923 - val_loss: 0.7919 - val_acc: 0.8544\n",
      "Epoch 28/50\n",
      " - 14s - loss: 0.0191 - acc: 0.9932 - val_loss: 0.8037 - val_acc: 0.8547\n",
      "Epoch 29/50\n",
      " - 15s - loss: 0.0173 - acc: 0.9944 - val_loss: 0.8162 - val_acc: 0.8510\n",
      "Epoch 30/50\n",
      " - 15s - loss: 0.0168 - acc: 0.9944 - val_loss: 0.8057 - val_acc: 0.8545\n",
      "Epoch 31/50\n",
      " - 14s - loss: 0.0219 - acc: 0.9925 - val_loss: 0.8017 - val_acc: 0.8522\n",
      "Epoch 32/50\n",
      " - 14s - loss: 0.0147 - acc: 0.9954 - val_loss: 0.8404 - val_acc: 0.8548\n",
      "Epoch 33/50\n",
      " - 15s - loss: 0.0155 - acc: 0.9952 - val_loss: 0.7814 - val_acc: 0.8546\n",
      "Epoch 34/50\n",
      " - 15s - loss: 0.0165 - acc: 0.9946 - val_loss: 0.8327 - val_acc: 0.8556\n",
      "Epoch 35/50\n",
      " - 15s - loss: 0.0179 - acc: 0.9940 - val_loss: 0.8364 - val_acc: 0.8536\n",
      "Epoch 36/50\n",
      " - 15s - loss: 0.0155 - acc: 0.9947 - val_loss: 0.8457 - val_acc: 0.8554\n",
      "Epoch 37/50\n",
      " - 14s - loss: 0.0112 - acc: 0.9960 - val_loss: 0.8712 - val_acc: 0.8548\n",
      "Epoch 38/50\n",
      " - 14s - loss: 0.0170 - acc: 0.9941 - val_loss: 0.8712 - val_acc: 0.8540\n",
      "Epoch 39/50\n",
      " - 15s - loss: 0.0156 - acc: 0.9945 - val_loss: 0.8608 - val_acc: 0.8534\n",
      "Epoch 40/50\n",
      " - 15s - loss: 0.0147 - acc: 0.9954 - val_loss: 0.8772 - val_acc: 0.8553\n",
      "Epoch 41/50\n",
      " - 15s - loss: 0.0151 - acc: 0.9949 - val_loss: 0.8761 - val_acc: 0.8555\n",
      "Epoch 42/50\n",
      " - 15s - loss: 0.0099 - acc: 0.9960 - val_loss: 0.8691 - val_acc: 0.8561\n",
      "Epoch 43/50\n",
      " - 15s - loss: 0.0123 - acc: 0.9956 - val_loss: 0.9575 - val_acc: 0.8552\n",
      "Epoch 44/50\n",
      " - 15s - loss: 0.0169 - acc: 0.9949 - val_loss: 0.8858 - val_acc: 0.8538\n",
      "Epoch 45/50\n",
      " - 15s - loss: 0.0165 - acc: 0.9945 - val_loss: 0.8832 - val_acc: 0.8526\n",
      "Epoch 46/50\n",
      " - 15s - loss: 0.0116 - acc: 0.9963 - val_loss: 0.8990 - val_acc: 0.8535\n",
      "Epoch 47/50\n",
      " - 15s - loss: 0.0132 - acc: 0.9955 - val_loss: 0.9440 - val_acc: 0.8558\n",
      "Epoch 48/50\n",
      " - 15s - loss: 0.0127 - acc: 0.9957 - val_loss: 0.9852 - val_acc: 0.8553\n",
      "Epoch 49/50\n",
      " - 15s - loss: 0.0120 - acc: 0.9957 - val_loss: 0.9534 - val_acc: 0.8550\n",
      "Epoch 50/50\n",
      " - 15s - loss: 0.0108 - acc: 0.9966 - val_loss: 0.9230 - val_acc: 0.8546\n",
      "(25000, 1000)\n"
     ]
    }
   ],
   "source": [
    "# Run the model. Feel free to experiment with different batch sizes and number of epochs.\n",
    "\n",
    "model.fit(x_train, y_train, batch_size=32,\n",
    "          epochs=50,\n",
    "          validation_data=(x_test, y_test), \n",
    "          verbose=2)\n",
    "\n",
    "print(x_train.shape)"
   ]
  },
  {
   "cell_type": "markdown",
   "metadata": {},
   "source": [
    "## 6. Evaluating the model\n",
    "This will give you the accuracy of the model, as evaluated on the testing set. Can you get something over 85%?"
   ]
  },
  {
   "cell_type": "code",
   "execution_count": 8,
   "metadata": {},
   "outputs": [
    {
     "name": "stdout",
     "output_type": "stream",
     "text": [
      "Accuracy:  0.85464\n"
     ]
    }
   ],
   "source": [
    "score = model.evaluate(x_test, y_test, verbose=0)\n",
    "print(\"Accuracy: \", score[1])"
   ]
  },
  {
   "cell_type": "markdown",
   "metadata": {},
   "source": [
    "_This project is part of Udacity's Machine Learning Engineer Nanodegree_"
   ]
  }
 ],
 "metadata": {
  "kernelspec": {
   "display_name": "Python 3",
   "language": "python",
   "name": "python3"
  },
  "language_info": {
   "codemirror_mode": {
    "name": "ipython",
    "version": 3
   },
   "file_extension": ".py",
   "mimetype": "text/x-python",
   "name": "python",
   "nbconvert_exporter": "python",
   "pygments_lexer": "ipython3",
   "version": "3.6.5"
  }
 },
 "nbformat": 4,
 "nbformat_minor": 2
}
