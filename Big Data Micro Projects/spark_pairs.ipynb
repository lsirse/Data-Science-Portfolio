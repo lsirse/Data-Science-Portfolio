{
 "cells": [
  {
   "cell_type": "code",
   "execution_count": 4,
   "metadata": {},
   "outputs": [
    {
     "name": "stdout",
     "output_type": "stream",
     "text": [
      "narodnaya_gazeta\t1\n",
      "narodnaya_volya\t9\n"
     ]
    }
   ],
   "source": [
    "from pyspark import SparkConf, SparkContext\n",
    "sc = SparkContext(conf=SparkConf().setAppName(\"MyApp\").setMaster(\"local\"))\n",
    "\n",
    "import re\n",
    "import numpy as np\n",
    "\n",
    "def collect_pairs(words):\n",
    "    pairs = []\n",
    "    for i in range(len(words)):\n",
    "        if(words[i].lower() == \"narodnaya\"):\n",
    "            pairs.append((words[i].lower() + \"_\" + words[i + 1],1))\n",
    "    return pairs\n",
    "\n",
    "def parse_article(line):\n",
    "    try:\n",
    "        article_id, text = unicode(line.rstrip()).split('\\t', 1)\n",
    "        text = re.sub(\"^\\W+|\\W+$\", \"\", text, flags=re.UNICODE)\n",
    "        words = re.split(\"\\W*\\s+\\W*\", text, flags=re.UNICODE)\n",
    "        words = [element.lower() for element in words]\n",
    "        return words\n",
    "    except ValueError as e:\n",
    "        return []\n",
    "    \n",
    "\n",
    "\n",
    "wiki = sc.textFile(\"articles-part\", 16).map(parse_article).filter(lambda words: \"narodnaya\" in words)\n",
    "wiki = wiki.map(collect_pairs).flatMap(lambda x: x).reduceByKey(lambda x, y: x + y).sortByKey()\n",
    "\n",
    "result = wiki.collect()\n",
    "\n",
    "for t in result:\n",
    "    print(str(t[0]) + \"\\t\" + str(t[1]))\n",
    "\n",
    "sc.stop()"
   ]
  },
  {
   "cell_type": "code",
   "execution_count": null,
   "metadata": {},
   "outputs": [],
   "source": []
  },
  {
   "cell_type": "code",
   "execution_count": null,
   "metadata": {},
   "outputs": [],
   "source": []
  }
 ],
 "metadata": {
  "kernelspec": {
   "display_name": "Python 3",
   "language": "python",
   "name": "python3"
  },
  "language_info": {
   "codemirror_mode": {
    "name": "ipython",
    "version": 3
   },
   "file_extension": ".py",
   "mimetype": "text/x-python",
   "name": "python",
   "nbconvert_exporter": "python",
   "pygments_lexer": "ipython3",
   "version": "3.6.5"
  }
 },
 "nbformat": 4,
 "nbformat_minor": 2
}
