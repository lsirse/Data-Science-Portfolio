{
 "cells": [
  {
   "cell_type": "code",
   "execution_count": null,
   "metadata": {},
   "outputs": [],
   "source": [
    "from __future__ import division, print_function, unicode_literals"
   ]
  },
  {
   "cell_type": "code",
   "execution_count": null,
   "metadata": {},
   "outputs": [],
   "source": [
    "from pyspark.sql import SparkSession\n",
    "spark = SparkSession.builder\\\n",
    "                            .enableHiveSupport()\\\n",
    "                            .appName(\"sparksql\")\\\n",
    "                            .master(\"local[*]\")\\\n",
    "                            .getOrCreate()"
   ]
  },
  {
   "cell_type": "code",
   "execution_count": null,
   "metadata": {},
   "outputs": [],
   "source": [
    "inputDF = spark.read.csv(\"dataset.csv\", header=True, inferSchema=True).repartition(100).cache()"
   ]
  },
  {
   "cell_type": "code",
   "execution_count": null,
   "metadata": {},
   "outputs": [],
   "source": [
    "from pyspark.ml.feature import StringIndexer"
   ]
  },
  {
   "cell_type": "code",
   "execution_count": null,
   "metadata": {},
   "outputs": [],
   "source": [
    "stringIndexer = StringIndexer(inputCol = \"Soil_Type\", outputCol = \"Soil_I\")\n",
    "si_model = stringIndexer.fit(inputDF)\n",
    "inputDF = si_model.transform(inputDF)"
   ]
  },
  {
   "cell_type": "code",
   "execution_count": null,
   "metadata": {},
   "outputs": [],
   "source": [
    "stringIndexer2 = StringIndexer(inputCol = \"Wild_Type\", outputCol = \"Wild_I\")\n",
    "si_model = stringIndexer2.fit(inputDF)\n",
    "inputDF = si_model.transform(inputDF)"
   ]
  },
  {
   "cell_type": "code",
   "execution_count": null,
   "metadata": {},
   "outputs": [],
   "source": [
    "from pyspark.ml.feature import OneHotEncoder"
   ]
  },
  {
   "cell_type": "code",
   "execution_count": null,
   "metadata": {},
   "outputs": [],
   "source": [
    "encoder = OneHotEncoder(inputCol='Wild_I', outputCol=\"WildEncoder\")\n",
    "inputDF = encoder.transform(inputDF)\n",
    "encoder = OneHotEncoder(inputCol='Soil_I', outputCol=\"SoilEncoder\")\n",
    "inputDF = encoder.transform(inputDF)"
   ]
  },
  {
   "cell_type": "code",
   "execution_count": null,
   "metadata": {},
   "outputs": [],
   "source": [
    "from pyspark.ml.feature import VectorAssembler"
   ]
  },
  {
   "cell_type": "code",
   "execution_count": null,
   "metadata": {},
   "outputs": [],
   "source": [
    "vector_assembler = VectorAssembler(inputCols=['SoilEncoder', # feature name of Soil type encoded\n",
    "                                              'WildEncoder', # feature name of Wild type encoded\n",
    "                                              'Elevation',\n",
    "                                              'Aspect',\n",
    "                                              'Slope',\n",
    "                                              'Horizontal_Distance_To_Hydrology',\n",
    "                                              'Vertical_Distance_To_Hydrology',\n",
    "                                              'Horizontal_Distance_To_Roadways',\n",
    "                                              'Hillshade_9am',\n",
    "                                              'Hillshade_Noon',\n",
    "                                              'Hillshade_3pm',\n",
    "                                              'Horizontal_Distance_To_Fire_Points'\n",
    "                                              ], outputCol='features')\n",
    "\n"
   ]
  },
  {
   "cell_type": "code",
   "execution_count": null,
   "metadata": {},
   "outputs": [],
   "source": [
    "inputDF = vector_assembler.transform(inputDF)"
   ]
  },
  {
   "cell_type": "code",
   "execution_count": null,
   "metadata": {},
   "outputs": [],
   "source": [
    "from pyspark.ml.classification import RandomForestClassifier, RandomForestClassificationModel"
   ]
  },
  {
   "cell_type": "code",
   "execution_count": null,
   "metadata": {},
   "outputs": [],
   "source": [
    "(trainingData, testData) = inputDF.randomSplit([0.7, 0.3], seed = 23)\n",
    "rfClassifer = RandomForestClassifier(labelCol='Target')"
   ]
  },
  {
   "cell_type": "code",
   "execution_count": null,
   "metadata": {},
   "outputs": [],
   "source": [
    "from pyspark.ml.tuning import CrossValidator, ParamGridBuilder\n",
    "from pyspark.ml.evaluation import MulticlassClassificationEvaluator\n",
    "from pyspark.ml import Pipeline\n",
    "\n",
    "pipeline = Pipeline(stages = [rfClassifer])\n",
    "\n",
    "\n",
    "paramGrid = ParamGridBuilder()\\\n",
    "    .addGrid(rfClassifer.maxDepth, [6,7,8]) \\\n",
    "    .addGrid(rfClassifer.numTrees, [95,100,105]) \\\n",
    "    .build()\n",
    "    \n",
    "    \n",
    "evaluator = MulticlassClassificationEvaluator(labelCol = \"Target\", predictionCol = \"prediction\", metricName = \"accuracy\") \n",
    "\n",
    "crossval = CrossValidator(estimator = pipeline,\n",
    "                          estimatorParamMaps = paramGrid,\n",
    "                          evaluator = evaluator,\n",
    "                          numFolds = 3,\n",
    "                          seed = 23)\n",
    "\n",
    "cvModel = crossval.fit(trainingData)\n",
    "\n",
    "predictions = cvModel.transform(testData)\n",
    "accuracy = evaluator.evaluate(predictions)\n",
    "print(accuracy)"
   ]
  }
 ],
 "metadata": {
  "kernelspec": {
   "display_name": "Python 3",
   "language": "python",
   "name": "python3"
  },
  "language_info": {
   "codemirror_mode": {
    "name": "ipython",
    "version": 3
   },
   "file_extension": ".py",
   "mimetype": "text/x-python",
   "name": "python",
   "nbconvert_exporter": "python",
   "pygments_lexer": "ipython3",
   "version": "3.6.5"
  }
 },
 "nbformat": 4,
 "nbformat_minor": 2
}
