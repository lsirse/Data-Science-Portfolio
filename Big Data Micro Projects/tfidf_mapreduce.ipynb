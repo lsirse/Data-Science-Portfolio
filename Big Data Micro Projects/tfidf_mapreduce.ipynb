{
 "cells": [
  {
   "cell_type": "code",
   "execution_count": 5,
   "metadata": {},
   "outputs": [
    {
     "name": "stdout",
     "output_type": "stream",
     "text": [
      "Overwriting mapper.py\n"
     ]
    }
   ],
   "source": [
    "%%writefile mapper.py\n",
    "\n",
    "from __future__ import division\n",
    "import sys\n",
    "import re\n",
    "from collections import Counter\n",
    "\n",
    "reload(sys)\n",
    "sys.setdefaultencoding('utf-8')\n",
    "stop_words = open(\"stop_words_en.txt\").read()\n",
    "\n",
    "for line in sys.stdin:\n",
    "    try:\n",
    "        article_id, text = unicode(line.strip()).split('\\t', 1)\n",
    "    except ValueError as e:\n",
    "        continue\n",
    "    text = re.sub(\"^\\W+|\\W+$\", \"\", text, flags=re.UNICODE)\n",
    "    words = re.split(\"\\W*\\s+\\W*\", text, flags=re.UNICODE)\n",
    "    words = [word.lower() for word in words if word not in stop_words]\n",
    "    total_words = len(words)\n",
    "    aggr_words = Counter(words)\n",
    "    for word, amount in aggr_words.items():\n",
    "        tf = amount / total_words\n",
    "        print \"%s\\t%s\\t%f\\t%d\" % (word, article_id, tf, 1)\n"
   ]
  },
  {
   "cell_type": "code",
   "execution_count": 6,
   "metadata": {},
   "outputs": [
    {
     "name": "stdout",
     "output_type": "stream",
     "text": [
      "Overwriting reducer.py\n"
     ]
    }
   ],
   "source": [
    "%%writefile reducer.py\n",
    "from __future__ import division\n",
    "import sys\n",
    "import re\n",
    "from collections import Counter\n",
    "\n",
    "reload(sys)\n",
    "sys.setdefaultencoding('utf-8')\n",
    "\n",
    "\n",
    "words_article_sum = 0\n",
    "current_key = \"\"\n",
    "\n",
    "for line in sys.stdin:\n",
    "    try:\n",
    "        key,articles,tfs,count = line.strip().split('\\t', 3)\n",
    "        articles = articles.split(\",\")\n",
    "        tfs = tfs.split(\",\")\n",
    "        count = int(count)\n",
    "    except ValueError as e:\n",
    "        continue\n",
    "    \n",
    "    if current_key != key:\n",
    "        if current_key:\n",
    "            #print(current_key)\n",
    "            print \"%s\\t%s\\t%s\\t%d\" % (\"\".join(current_key), \",\".join(current_articles), \",\".join(current_tfs), words_article_sum)\n",
    "        current_key = key\n",
    "        current_articles = []\n",
    "        current_tfs = []\n",
    "        words_article_sum = 0\n",
    "    words_article_sum += count\n",
    "    current_articles += articles\n",
    "    current_tfs += tfs\n",
    "\n",
    "if current_key:\n",
    "    print \"%s\\t%s\\t%s\\t%d\" % (\"\".join(current_key), \",\".join(current_articles), \",\".join(current_tfs), words_article_sum)"
   ]
  },
  {
   "cell_type": "code",
   "execution_count": 7,
   "metadata": {},
   "outputs": [
    {
     "name": "stdout",
     "output_type": "stream",
     "text": [
      "Overwriting parser.py\n"
     ]
    }
   ],
   "source": [
    "%%writefile parser.py\n",
    "from __future__ import division\n",
    "import sys\n",
    "from math import log\n",
    "\n",
    "\n",
    "words_article_sum = 0\n",
    "current_key = \"\"\n",
    "\n",
    "for line in sys.stdin:\n",
    "    try:\n",
    "        word,articles,tfs,count = line.strip().split('\\t', 3)\n",
    "        articles = articles.split(\",\")\n",
    "        tfs = tfs.split(\",\")\n",
    "        count = int(count)\n",
    "    except ValueError as e:\n",
    "        continue\n",
    "    if word == \"labor\":\n",
    "        for key, value in enumerate(articles):\n",
    "            if articles[key] == \"12\":\n",
    "                print(tfs[key])\n",
    "                print((1 / log(1 + count))\n",
    "                print(count)\n",
    "                tf_idf = float(tfs[key]) * (1 / log(1 + count))\n",
    "                print(tf_idf)"
   ]
  },
  {
   "cell_type": "code",
   "execution_count": null,
   "metadata": {},
   "outputs": [],
   "source": [
    "%%bash\n",
    "\n",
    "OUT_DIR=\"tfidf_result\"$(date +\"%s%3N\")\n",
    "NUM_REDUCERS=8\n",
    "OUT_DIR2=\"tfidf_final_result\"$(date +\"%s%3N\")\n",
    "\n",
    "\n",
    "hdfs dfs -cat /datasets/stop_words_en.txt > stop_words_en.txt\n",
    "\n",
    "hdfs dfs -rm -r -skipTrash ${OUT_DIR} > /dev/null\n",
    "\n",
    "yarn jar /opt/cloudera/parcels/CDH/lib/hadoop-mapreduce/hadoop-streaming.jar \\\n",
    "    -D mapred.job.name=\"Streaming tfidf\" \\\n",
    "    -D mapreduce.job.reduces=${NUM_REDUCERS} \\\n",
    "    -files mapper.py,reducer.py,stop_words_en.txt \\\n",
    "    -mapper \"python mapper.py\" \\\n",
    "    -reducer \"python reducer.py\" \\\n",
    "    -input /data/wiki/en_articles_part \\\n",
    "    -output ${OUT_DIR} > /dev/null\n",
    "    \n",
    "hdfs dfs -rm -r -skipTrash ${OUT_DIR2} > /dev/null\n",
    "\n",
    "yarn jar /opt/cloudera/parcels/CDH/lib/hadoop-mapreduce/hadoop-streaming.jar \\\n",
    "    -D mapred.job.name=\"Streaming tfidf\" \\\n",
    "    -D mapreduce.job.reduces=1 \\\n",
    "    -files parser.py \\\n",
    "    -reducer \"python parser.py\" \\\n",
    "    -mapper /bin/cat \\\n",
    "    -input ${OUT_DIR} \\\n",
    "    -output ${OUT_DIR2} > /dev/null\n",
    "    \n",
    "hdfs dfs -cat ${OUT_DIR2}/part-00000"
   ]
  }
 ],
 "metadata": {
  "kernelspec": {
   "display_name": "Python 3",
   "language": "python",
   "name": "python3"
  },
  "language_info": {
   "codemirror_mode": {
    "name": "ipython",
    "version": 3
   },
   "file_extension": ".py",
   "mimetype": "text/x-python",
   "name": "python",
   "nbconvert_exporter": "python",
   "pygments_lexer": "ipython3",
   "version": "3.6.5"
  }
 },
 "nbformat": 4,
 "nbformat_minor": 2
}
