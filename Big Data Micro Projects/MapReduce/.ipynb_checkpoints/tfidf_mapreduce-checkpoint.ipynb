{
 "cells": [
  {
   "cell_type": "markdown",
   "metadata": {},
   "source": [
    "## Micro Project\n",
    "### Calculating tfidf with MapReduce\n",
    "    "
   ]
  },
  {
   "cell_type": "markdown",
   "metadata": {},
   "source": [
    "### Lets write mapper for the first job:"
   ]
  },
  {
   "cell_type": "code",
   "execution_count": 3,
   "metadata": {},
   "outputs": [
    {
     "name": "stdout",
     "output_type": "stream",
     "text": [
      "Overwriting mapper.py\n"
     ]
    }
   ],
   "source": [
    "%%writefile mapper.py\n",
    "\n",
    "from __future__ import division\n",
    "import sys\n",
    "import re\n",
    "from collections import Counter\n",
    "\n",
    "reload(sys)\n",
    "sys.setdefaultencoding('utf-8')\n",
    "stop_words = open(\"stop_words_en.txt\").read()\n",
    "\n",
    "for line in sys.stdin:\n",
    "    try:\n",
    "        article_id, text = unicode(line.strip()).split('\\t', 1)\n",
    "    except ValueError as e:\n",
    "        continue\n",
    "    text = re.sub(\"^\\W+|\\W+$\", \"\", text, flags=re.UNICODE)\n",
    "    words = re.split(\"\\W*\\s+\\W*\", text, flags=re.UNICODE)\n",
    "    words = [word.lower() for word in words if word not in stop_words]\n",
    "    total_words = len(words)\n",
    "    aggr_words = Counter(words)\n",
    "    for word, amount in aggr_words.items():\n",
    "        tf = amount / total_words\n",
    "        print \"%s\\t%s\\t%f\\t%d\" % (word, article_id, tf, 1)\n"
   ]
  },
  {
   "cell_type": "markdown",
   "metadata": {},
   "source": [
    "### Let's write reducer for the first job:"
   ]
  },
  {
   "cell_type": "code",
   "execution_count": 4,
   "metadata": {},
   "outputs": [
    {
     "name": "stdout",
     "output_type": "stream",
     "text": [
      "Overwriting reducer.py\n"
     ]
    }
   ],
   "source": [
    "%%writefile reducer.py\n",
    "from __future__ import division\n",
    "import sys\n",
    "import re\n",
    "from collections import Counter\n",
    "\n",
    "reload(sys)\n",
    "sys.setdefaultencoding('utf-8')\n",
    "\n",
    "\n",
    "words_article_sum = 0\n",
    "current_key = \"\"\n",
    "\n",
    "for line in sys.stdin:\n",
    "    try:\n",
    "        key,articles,tfs,count = line.strip().split('\\t', 3)\n",
    "        articles = articles.split(\",\")\n",
    "        tfs = tfs.split(\",\")\n",
    "        count = int(count)\n",
    "    except ValueError as e:\n",
    "        continue\n",
    "    \n",
    "    if current_key != key:\n",
    "        if current_key:\n",
    "            print \"%s\\t%s\\t%s\\t%d\" % (\"\".join(current_key), \",\".join(current_articles), \",\".join(current_tfs), words_article_sum)\n",
    "        current_key = key\n",
    "        current_articles = []\n",
    "        current_tfs = []\n",
    "        words_article_sum = 0\n",
    "    words_article_sum += count\n",
    "    current_articles += articles\n",
    "    current_tfs += tfs\n",
    "\n",
    "if current_key:\n",
    "    print \"%s\\t%s\\t%s\\t%d\" % (\"\".join(current_key), \",\".join(current_articles), \",\".join(current_tfs), words_article_sum)"
   ]
  },
  {
   "cell_type": "markdown",
   "metadata": {},
   "source": [
    "### Let's write parser for the second job:"
   ]
  },
  {
   "cell_type": "code",
   "execution_count": 5,
   "metadata": {},
   "outputs": [
    {
     "name": "stdout",
     "output_type": "stream",
     "text": [
      "Overwriting parser.py\n"
     ]
    }
   ],
   "source": [
    "%%writefile parser.py\n",
    "from __future__ import division\n",
    "import sys\n",
    "from math import log\n",
    "\n",
    "\n",
    "words_article_sum = 0\n",
    "current_key = \"\"\n",
    "\n",
    "for line in sys.stdin:\n",
    "    try:\n",
    "        word,articles,tfs,count = line.strip().split('\\t', 3)\n",
    "        articles = articles.split(\",\")\n",
    "        tfs = tfs.split(\",\")\n",
    "        count = int(count)\n",
    "    except ValueError as e:\n",
    "        continue\n",
    "    if word == \"labor\":\n",
    "        for key, value in enumerate(articles):\n",
    "            if articles[key] == \"12\":\n",
    "                tf_idf = float(tfs[key]) * (1 / log(1 + count))\n",
    "                print(tf_idf)"
   ]
  },
  {
   "cell_type": "markdown",
   "metadata": {},
   "source": [
    "### Running Hadoop Streaming Job"
   ]
  },
  {
   "cell_type": "code",
   "execution_count": 6,
   "metadata": {},
   "outputs": [
    {
     "name": "stdout",
     "output_type": "stream",
     "text": [
      "0.000338272642228\t\n"
     ]
    },
    {
     "name": "stderr",
     "output_type": "stream",
     "text": [
      "18/08/20 07:06:24 INFO client.RMProxy: Connecting to ResourceManager at /0.0.0.0:8032\n",
      "18/08/20 07:06:25 INFO client.RMProxy: Connecting to ResourceManager at /0.0.0.0:8032\n",
      "18/08/20 07:06:25 INFO mapred.FileInputFormat: Total input files to process : 1\n",
      "18/08/20 07:06:25 INFO mapreduce.JobSubmitter: number of splits:2\n",
      "18/08/20 07:06:25 INFO Configuration.deprecation: mapred.job.name is deprecated. Instead, use mapreduce.job.name\n",
      "18/08/20 07:06:26 INFO mapreduce.JobSubmitter: Submitting tokens for job: job_1534746471392_0008\n",
      "18/08/20 07:06:26 INFO impl.YarnClientImpl: Submitted application application_1534746471392_0008\n",
      "18/08/20 07:06:26 INFO mapreduce.Job: The url to track the job: http://27f463cc9606:8088/proxy/application_1534746471392_0008/\n",
      "18/08/20 07:06:26 INFO mapreduce.Job: Running job: job_1534746471392_0008\n",
      "18/08/20 07:06:35 INFO mapreduce.Job: Job job_1534746471392_0008 running in uber mode : false\n",
      "18/08/20 07:06:35 INFO mapreduce.Job:  map 0% reduce 0%\n",
      "18/08/20 07:06:53 INFO mapreduce.Job:  map 17% reduce 0%\n",
      "18/08/20 07:07:00 INFO mapreduce.Job:  map 25% reduce 0%\n",
      "18/08/20 07:07:06 INFO mapreduce.Job:  map 34% reduce 0%\n",
      "18/08/20 07:07:12 INFO mapreduce.Job:  map 42% reduce 0%\n",
      "18/08/20 07:07:18 INFO mapreduce.Job:  map 51% reduce 0%\n",
      "18/08/20 07:07:24 INFO mapreduce.Job:  map 60% reduce 0%\n",
      "18/08/20 07:07:30 INFO mapreduce.Job:  map 67% reduce 0%\n",
      "18/08/20 07:07:32 INFO mapreduce.Job:  map 100% reduce 0%\n",
      "18/08/20 07:07:48 INFO mapreduce.Job:  map 100% reduce 13%\n",
      "18/08/20 07:07:53 INFO mapreduce.Job:  map 100% reduce 25%\n",
      "18/08/20 07:07:56 INFO mapreduce.Job:  map 100% reduce 38%\n",
      "18/08/20 07:07:58 INFO mapreduce.Job:  map 100% reduce 50%\n",
      "18/08/20 07:08:00 INFO mapreduce.Job:  map 100% reduce 75%\n",
      "18/08/20 07:08:04 INFO mapreduce.Job:  map 100% reduce 88%\n",
      "18/08/20 07:08:05 INFO mapreduce.Job:  map 100% reduce 100%\n",
      "18/08/20 07:08:06 INFO mapreduce.Job: Job job_1534746471392_0008 completed successfully\n",
      "18/08/20 07:08:06 INFO mapreduce.Job: Counters: 50\n",
      "\tFile System Counters\n",
      "\t\tFILE: Number of bytes read=92318066\n",
      "\t\tFILE: Number of bytes written=186033716\n",
      "\t\tFILE: Number of read operations=0\n",
      "\t\tFILE: Number of large read operations=0\n",
      "\t\tFILE: Number of write operations=0\n",
      "\t\tHDFS: Number of bytes read=76874501\n",
      "\t\tHDFS: Number of bytes written=54755031\n",
      "\t\tHDFS: Number of read operations=30\n",
      "\t\tHDFS: Number of large read operations=0\n",
      "\t\tHDFS: Number of write operations=16\n",
      "\tJob Counters \n",
      "\t\tKilled reduce tasks=1\n",
      "\t\tLaunched map tasks=2\n",
      "\t\tLaunched reduce tasks=9\n",
      "\t\tData-local map tasks=2\n",
      "\t\tTotal time spent by all maps in occupied slots (ms)=110346\n",
      "\t\tTotal time spent by all reduces in occupied slots (ms)=137961\n",
      "\t\tTotal time spent by all map tasks (ms)=110346\n",
      "\t\tTotal time spent by all reduce tasks (ms)=137961\n",
      "\t\tTotal vcore-milliseconds taken by all map tasks=110346\n",
      "\t\tTotal vcore-milliseconds taken by all reduce tasks=137961\n",
      "\t\tTotal megabyte-milliseconds taken by all map tasks=112994304\n",
      "\t\tTotal megabyte-milliseconds taken by all reduce tasks=141272064\n",
      "\tMap-Reduce Framework\n",
      "\t\tMap input records=4100\n",
      "\t\tMap output records=3545324\n",
      "\t\tMap output bytes=85227360\n",
      "\t\tMap output materialized bytes=92318114\n",
      "\t\tInput split bytes=228\n",
      "\t\tCombine input records=0\n",
      "\t\tCombine output records=0\n",
      "\t\tReduce input groups=426499\n",
      "\t\tReduce shuffle bytes=92318114\n",
      "\t\tReduce input records=3545324\n",
      "\t\tReduce output records=426499\n",
      "\t\tSpilled Records=7090648\n",
      "\t\tShuffled Maps =16\n",
      "\t\tFailed Shuffles=0\n",
      "\t\tMerged Map outputs=16\n",
      "\t\tGC time elapsed (ms)=1885\n",
      "\t\tCPU time spent (ms)=142800\n",
      "\t\tPhysical memory (bytes) snapshot=1964511232\n",
      "\t\tVirtual memory (bytes) snapshot=19656536064\n",
      "\t\tTotal committed heap usage (bytes)=1217921024\n",
      "\tShuffle Errors\n",
      "\t\tBAD_ID=0\n",
      "\t\tCONNECTION=0\n",
      "\t\tIO_ERROR=0\n",
      "\t\tWRONG_LENGTH=0\n",
      "\t\tWRONG_MAP=0\n",
      "\t\tWRONG_REDUCE=0\n",
      "\tFile Input Format Counters \n",
      "\t\tBytes Read=76874273\n",
      "\tFile Output Format Counters \n",
      "\t\tBytes Written=54755031\n",
      "18/08/20 07:08:06 INFO streaming.StreamJob: Output directory: tfidf_1534748782267\n",
      "18/08/20 07:08:09 INFO client.RMProxy: Connecting to ResourceManager at /0.0.0.0:8032\n",
      "18/08/20 07:08:09 INFO client.RMProxy: Connecting to ResourceManager at /0.0.0.0:8032\n",
      "18/08/20 07:08:10 INFO mapred.FileInputFormat: Total input files to process : 8\n",
      "18/08/20 07:08:10 INFO mapreduce.JobSubmitter: number of splits:8\n",
      "18/08/20 07:08:10 INFO Configuration.deprecation: mapred.job.name is deprecated. Instead, use mapreduce.job.name\n",
      "18/08/20 07:08:10 INFO mapreduce.JobSubmitter: Submitting tokens for job: job_1534746471392_0009\n",
      "18/08/20 07:08:10 INFO impl.YarnClientImpl: Submitted application application_1534746471392_0009\n",
      "18/08/20 07:08:11 INFO mapreduce.Job: The url to track the job: http://27f463cc9606:8088/proxy/application_1534746471392_0009/\n",
      "18/08/20 07:08:11 INFO mapreduce.Job: Running job: job_1534746471392_0009\n",
      "18/08/20 07:08:20 INFO mapreduce.Job: Job job_1534746471392_0009 running in uber mode : false\n",
      "18/08/20 07:08:20 INFO mapreduce.Job:  map 0% reduce 0%\n",
      "18/08/20 07:08:38 INFO mapreduce.Job:  map 75% reduce 0%\n",
      "18/08/20 07:08:50 INFO mapreduce.Job:  map 100% reduce 0%\n",
      "18/08/20 07:08:53 INFO mapreduce.Job:  map 100% reduce 100%\n",
      "18/08/20 07:08:54 INFO mapreduce.Job: Job job_1534746471392_0009 completed successfully\n",
      "18/08/20 07:08:54 INFO mapreduce.Job: Counters: 50\n",
      "\tFile System Counters\n",
      "\t\tFILE: Number of bytes read=55719303\n",
      "\t\tFILE: Number of bytes written=112691159\n",
      "\t\tFILE: Number of read operations=0\n",
      "\t\tFILE: Number of large read operations=0\n",
      "\t\tFILE: Number of write operations=0\n",
      "\t\tHDFS: Number of bytes read=54755959\n",
      "\t\tHDFS: Number of bytes written=19\n",
      "\t\tHDFS: Number of read operations=27\n",
      "\t\tHDFS: Number of large read operations=0\n",
      "\t\tHDFS: Number of write operations=2\n",
      "\tJob Counters \n",
      "\t\tKilled map tasks=1\n",
      "\t\tLaunched map tasks=8\n",
      "\t\tLaunched reduce tasks=1\n",
      "\t\tData-local map tasks=8\n",
      "\t\tTotal time spent by all maps in occupied slots (ms)=118184\n",
      "\t\tTotal time spent by all reduces in occupied slots (ms)=12060\n",
      "\t\tTotal time spent by all map tasks (ms)=118184\n",
      "\t\tTotal time spent by all reduce tasks (ms)=12060\n",
      "\t\tTotal vcore-milliseconds taken by all map tasks=118184\n",
      "\t\tTotal vcore-milliseconds taken by all reduce tasks=12060\n",
      "\t\tTotal megabyte-milliseconds taken by all map tasks=121020416\n",
      "\t\tTotal megabyte-milliseconds taken by all reduce tasks=12349440\n",
      "\tMap-Reduce Framework\n",
      "\t\tMap input records=426499\n",
      "\t\tMap output records=426499\n",
      "\t\tMap output bytes=54809786\n",
      "\t\tMap output materialized bytes=55719345\n",
      "\t\tInput split bytes=928\n",
      "\t\tCombine input records=0\n",
      "\t\tCombine output records=0\n",
      "\t\tReduce input groups=426499\n",
      "\t\tReduce shuffle bytes=55719345\n",
      "\t\tReduce input records=426499\n",
      "\t\tReduce output records=1\n",
      "\t\tSpilled Records=852998\n",
      "\t\tShuffled Maps =8\n",
      "\t\tFailed Shuffles=0\n",
      "\t\tMerged Map outputs=8\n",
      "\t\tGC time elapsed (ms)=1906\n",
      "\t\tCPU time spent (ms)=24610\n",
      "\t\tPhysical memory (bytes) snapshot=2376249344\n",
      "\t\tVirtual memory (bytes) snapshot=17644613632\n",
      "\t\tTotal committed heap usage (bytes)=1703411712\n",
      "\tShuffle Errors\n",
      "\t\tBAD_ID=0\n",
      "\t\tCONNECTION=0\n",
      "\t\tIO_ERROR=0\n",
      "\t\tWRONG_LENGTH=0\n",
      "\t\tWRONG_MAP=0\n",
      "\t\tWRONG_REDUCE=0\n",
      "\tFile Input Format Counters \n",
      "\t\tBytes Read=54755031\n",
      "\tFile Output Format Counters \n",
      "\t\tBytes Written=19\n",
      "18/08/20 07:08:54 INFO streaming.StreamJob: Output directory: tfidf_final1534748782269\n"
     ]
    }
   ],
   "source": [
    "%%bash\n",
    "\n",
    "OUT_DIR=\"tfidf_\"$(date +\"%s%3N\")\n",
    "NUM_REDUCERS=8\n",
    "OUT_DIR2=\"tfidf_final\"$(date +\"%s%3N\")\n",
    "\n",
    "\n",
    "yarn jar /opt/cloudera/parcels/CDH/lib/hadoop-mapreduce/hadoop-streaming.jar \\\n",
    "    -D mapred.job.name=\"Streaming tfidf\" \\\n",
    "    -D mapreduce.job.reduces=${NUM_REDUCERS} \\\n",
    "    -files mapper.py,reducer.py,stop_words_en.txt \\\n",
    "    -mapper \"python mapper.py\" \\\n",
    "    -reducer \"python reducer.py\" \\\n",
    "    -input /data/wiki/en_articles_part \\\n",
    "    -output ${OUT_DIR} > /dev/null\n",
    "    \n",
    "\n",
    "yarn jar /opt/cloudera/parcels/CDH/lib/hadoop-mapreduce/hadoop-streaming.jar \\\n",
    "    -D mapred.job.name=\"Streaming tfidf 2\" \\\n",
    "    -D mapreduce.job.reduces=1 \\\n",
    "    -files parser.py \\\n",
    "    -reducer \"python parser.py\" \\\n",
    "    -mapper /bin/cat \\\n",
    "    -input ${OUT_DIR} \\\n",
    "    -output ${OUT_DIR2} > /dev/null\n",
    "    \n",
    "hdfs dfs -cat ${OUT_DIR2}/part-00000"
   ]
  },
  {
   "cell_type": "markdown",
   "metadata": {},
   "source": [
    "_Project is part of \"Big Data Essentials: HDFS, MapReduce and Spark RDD by Yandex\" course at Coursera_"
   ]
  },
  {
   "cell_type": "code",
   "execution_count": null,
   "metadata": {},
   "outputs": [],
   "source": []
  }
 ],
 "metadata": {
  "kernelspec": {
   "display_name": "Python 3",
   "language": "python",
   "name": "python3"
  },
  "language_info": {
   "codemirror_mode": {
    "name": "ipython",
    "version": 3
   },
   "file_extension": ".py",
   "mimetype": "text/x-python",
   "name": "python",
   "nbconvert_exporter": "python",
   "pygments_lexer": "ipython3",
   "version": "3.6.5"
  }
 },
 "nbformat": 4,
 "nbformat_minor": 2
}
